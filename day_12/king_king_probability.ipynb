{
 "cells": [
  {
   "cell_type": "code",
   "execution_count": 11,
   "metadata": {},
   "outputs": [],
   "source": [
    "import numpy as np\n",
    "\n",
    "org_deck=[1,2,3,4,5,6,7,8,9,10,11,12,13,\n",
    "          1,2,3,4,5,6,7,8,9,10,11,12,13,\n",
    "          1,2,3,4,5,6,7,8,9,10,11,12,13,\n",
    "          1,2,3,4,5,6,7,8,9,10,11,12,13]\n",
    "\n",
    "total_samples = 100\n",
    "def montecarlo():\n",
    "    count = 0\n",
    "    for _ in org_deck:\n",
    "        deck = org_deck.copy()\n",
    "        np.random.shuffle(deck)\n",
    "        if kingking(deck):\n",
    "            count=count+1\n",
    "            print(count)\n",
    "    \n",
    "def kingking(deck):\n",
    "    if [13,13] in deck:\n",
    "        return True\n",
    "    \n",
    "montecarlo()"
   ]
  },
  {
   "cell_type": "code",
   "execution_count": 57,
   "metadata": {},
   "outputs": [
    {
     "name": "stdout",
     "output_type": "stream",
     "text": [
      "0.0\n",
      "[13, 8, 12, 2, 4, 5, 1, 8, 4, 8, 3, 6, 10, 6, 3, 12, 7, 7, 10, 2, 10, 5, 4, 12, 12, 4, 7, 2, 9, 1, 5, 8, 13, 6, 11, 13, 1, 3, 9, 9, 11, 6, 13, 11, 9, 10, 11, 1, 3, 7, 2, 5]\n"
     ]
    }
   ],
   "source": [
    "import numpy as np\n",
    "\n",
    "org_deck = [1, 2, 3, 4, 5, 6, 7, 8, 9, 10, 11, 12, 13,\n",
    "            1, 2, 3, 4, 5, 6, 7, 8, 9, 10, 11, 12, 13,\n",
    "            1, 2, 3, 4, 5, 6, 7, 8, 9, 10, 11, 12, 13,\n",
    "            1, 2, 3, 4, 5, 6, 7, 8, 9, 10, 11, 12, 13]\n",
    "total_samples = 1000\n",
    "deck = org_deck.copy()\n",
    "\n",
    "def montecarlo():\n",
    "    count = 0\n",
    "\n",
    "    for _ in range(total_samples):\n",
    "        np.random.shuffle(deck)\n",
    "        if [13,13] in deck:\n",
    "            count = count + 1\n",
    "    return count * 100/ total_samples\n",
    "\n",
    "print(montecarlo())\n",
    "print(deck)"
   ]
  },
  {
   "cell_type": "markdown",
   "metadata": {},
   "source": [
    "21.736 probability"
   ]
  },
  {
   "cell_type": "code",
   "execution_count": 64,
   "metadata": {},
   "outputs": [
    {
     "name": "stdout",
     "output_type": "stream",
     "text": [
      "Estimated probability of two Kings coming together: 21.7127\n"
     ]
    }
   ],
   "source": [
    "import numpy as np\n",
    "\n",
    "org_deck = [1, 2, 3, 4, 5, 6, 7, 8, 9, 10, 11, 12, 13,\n",
    "            1, 2, 3, 4, 5, 6, 7, 8, 9, 10, 11, 12, 13,\n",
    "            1, 2, 3, 4, 5, 6, 7, 8, 9, 10, 11, 12, 13,\n",
    "            1, 2, 3, 4, 5, 6, 7, 8, 9, 10, 11, 12, 13]\n",
    "\n",
    "total_samples = 1000000\n",
    "\n",
    "def montecarlo():\n",
    "    count = 0\n",
    "\n",
    "    for _ in range(total_samples):\n",
    "        deck = org_deck.copy()\n",
    "        np.random.shuffle(deck)\n",
    "        for i in range(len(deck) - 1):\n",
    "            if deck[i] == 13 and deck[i + 1] == 13:\n",
    "                count += 1\n",
    "                break\n",
    "    return count * 100 / total_samples\n",
    "\n",
    "print(\"Estimated probability of two Kings coming together:\", montecarlo())\n"
   ]
  },
  {
   "cell_type": "code",
   "execution_count": 72,
   "metadata": {},
   "outputs": [
    {
     "name": "stdout",
     "output_type": "stream",
     "text": [
      "0.0\n",
      "0.0\n",
      "0.0\n",
      "0.0\n",
      "0.0\n",
      "0.0\n"
     ]
    },
    {
     "data": {
      "text/plain": [
       "<matplotlib.collections.PathCollection at 0x7f5388493fd0>"
      ]
     },
     "execution_count": 72,
     "metadata": {},
     "output_type": "execute_result"
    },
    {
     "data": {
      "image/png": "[encoded data removed]",
      "text/plain": [
       "<Figure size 640x480 with 1 Axes>"
      ]
     },
     "metadata": {},
     "output_type": "display_data"
    }
   ],
   "source": [
    "import numpy as np\n",
    "import matplotlib.pyplot as plt\n",
    "import copy\n",
    "\n",
    "org_deck = ['1S', '2S', '3S', '4S', '5S', '6S', '7S', '8S', '9S', '10S', '11S', '12S', '13S',\n",
    "            '1H', '2H', '3H', '4H', '5H', '6H', '7H', '8H', '9H', '10H', '11H', '12H', '13H',\n",
    "            '1C', '2C', '3C', '4C', '5C', '6C', '7C', '8C', '9C', '10C', '11C', '12C', '13C',\n",
    "            '1D', '2D', '3D', '4D', '5D', '6D', '7D', '8D', '9D', '10D', '11D', '12D', '13D']\n",
    "\n",
    "def kingking(deck):\n",
    "    for i in range(len(deck) - 1):\n",
    "        if deck[i][0] == 'K' and deck[i+1][0]=='K':  #check if there is King-King combination \n",
    "            return True\n",
    "        \n",
    "def MonteCarlo(n):\n",
    "    count = 0.0\n",
    "    for i in range(n):\n",
    "        deck=copy.deepcopy(org_deck)\n",
    "        np.random.shuffle(deck)            # Shuffle a deck\n",
    "        if kingking(deck):                  # Check if there is King-King combination\n",
    "            count=count + 1                 # if found then increase a count\n",
    "        print(count/n*100)                  # Get a success %%\n",
    "        return count/n*10\n",
    "# Simulate \n",
    "result = []\n",
    "for i in range(1,7):\n",
    "    result.append(MonteCarlo(10**i))\n",
    "    \n",
    "# Actual probability value = 21.7376%\n",
    "plt.xscale('log')\n",
    "plt.plot([10**i for i in range(1, 7)], result)\n",
    "plt.scatter([10**i for i in range(1, 7)], result)\n",
    "# plt.show()"
   ]
  },
  {
   "cell_type": "code",
   "execution_count": 67,
   "metadata": {},
   "outputs": [
    {
     "data": {
      "image/png": "[encoded data removed]",
      "text/plain": [
       "<Figure size 640x480 with 1 Axes>"
      ]
     },
     "metadata": {},
     "output_type": "display_data"
    }
   ],
   "source": [
    "import numpy as np\n",
    "import matplotlib.pyplot as plt\n",
    "import copy\n",
    "\n",
    "org_deck = ['1S', '2S', '3S', '4S', '5S', '6S', '7S', '8S', '9S', '10S', '11S', '12S', '13S',\n",
    "            '1H', '2H', '3H', '4H', '5H', '6H', '7H', '8H', '9H', '10H', '11H', '12H', '13H',\n",
    "            '1C', '2C', '3C', '4C', '5C', '6C', '7C', '8C', '9C', '10C', '11C', '12C', '13C',\n",
    "            '1D', '2D', '3D', '4D', '5D', '6D', '7D', '8D', '9D', '10D', '11D', '12D', '13D']\n",
    "\n",
    "def kingking(deck):\n",
    "    for i in range(len(deck) - 1):\n",
    "        if deck[i][0] == 'K' and deck[i+1][0]=='K':  #check if there is King-King combination \n",
    "            return True\n",
    "        \n",
    "def MonteCarlo(n):\n",
    "    count = 0.0\n",
    "    for i in range(n):\n",
    "        deck=copy.deepcopy(org_deck)\n",
    "        np.random.shuffle(deck)            # Shuffle a deck\n",
    "        if kingking(deck):                  # Check if there is King-King combination\n",
    "            count=count + 1                 # if found then increase a count\n",
    "    return count/n*100  # Get a success %%\n",
    "    \n",
    "# Simulate \n",
    "result = []\n",
    "for i in range(1,7):\n",
    "    result.append(MonteCarlo(10**i))\n",
    "    \n",
    "# Actual probability value = 21.7376%\n",
    "plt.xscale('log')\n",
    "plt.plot([10**i for i in range(1, 7)], result)\n",
    "plt.scatter([10**i for i in range(1, 7)], result)\n",
    "plt.show()"
   ]
  },
  {
   "cell_type": "code",
   "execution_count": null,
   "metadata": {},
   "outputs": [],
   "source": [
    "np.random.choice"
   ]
  },
  {
   "cell_type": "code",
   "execution_count": 129,
   "metadata": {},
   "outputs": [
    {
     "name": "stdout",
     "output_type": "stream",
     "text": [
      "0.001\n"
     ]
    }
   ],
   "source": [
    "import numpy as np\n",
    "\n",
    "org_dice = [1, 2, 3, 4, 5, 6]\n",
    "\n",
    "total_samples = 1000\n",
    "\n",
    "def montecarlo():\n",
    "    count = 0\n",
    "\n",
    "    for _ in range(total_samples):\n",
    "        dice = org_dice.copy()\n",
    "        np.random.shuffle(dice)\n",
    "        if dice[0]==i:\n",
    "            count=count+1\n",
    "            break\n",
    "    return count / total_samples\n",
    "\n",
    "print(montecarlo())\n"
   ]
  },
  {
   "cell_type": "code",
   "execution_count": null,
   "metadata": {},
   "outputs": [],
   "source": [
    "dice = [1, 2, 3, 4, 5, 6]\n",
    "for i in range(1000):\n",
    "    new_dice = np.random.shuffle(dice)\n",
    "    new_dice[0] == 2:\n",
    "        "
   ]
  },
  {
   "cell_type": "code",
   "execution_count": null,
   "metadata": {},
   "outputs": [],
   "source": [
    "import random\n",
    "possible_input = [1, 2, 3, 4, 5, 6]\n",
    "num_simulations = 20000\n",
    "results = []\n",
    "\n",
    "for i in range(num_simulations):\n",
    "    result = random.choice(possible_input)\n",
    "    # Add the result to the list\n",
    "    result.append(result)\n",
    "    \n",
    "# Calculate the frequency of each outcome\n",
    "frequency = []\n",
    "for outcome in possible_input:\n",
    "    frequency[outcome] = results.count(outcome)/ num_simulations\n",
    "    \n",
    "print(\"Simulation results:\")\n",
    "for outcome, freq in frequency.items():\n",
    "    print(f\"{outcome}:Occurance {freq}\")"
   ]
  },
  {
   "cell_type": "code",
   "execution_count": null,
   "metadata": {},
   "outputs": [],
   "source": []
  },
  {
   "cell_type": "code",
   "execution_count": null,
   "metadata": {},
   "outputs": [],
   "source": []
  },
  {
   "cell_type": "code",
   "execution_count": null,
   "metadata": {},
   "outputs": [],
   "source": []
  },
  {
   "cell_type": "code",
   "execution_count": null,
   "metadata": {},
   "outputs": [],
   "source": [
    "2 uniform distribusion X =  and Y\n",
    "check x**2 + y**2 <1\n",
    "counter = counter +1\n"
   ]
  },
  {
   "cell_type": "code",
   "execution_count": null,
   "metadata": {},
   "outputs": [],
   "source": []
  },
  {
   "cell_type": "code",
   "execution_count": null,
   "metadata": {},
   "outputs": [],
   "source": []
  },
  {
   "cell_type": "code",
   "execution_count": null,
   "metadata": {},
   "outputs": [],
   "source": []
  },
  {
   "cell_type": "code",
   "execution_count": null,
   "metadata": {},
   "outputs": [],
   "source": []
  },
  {
   "cell_type": "code",
   "execution_count": null,
   "metadata": {},
   "outputs": [],
   "source": []
  }
 ],
 "metadata": {
  "kernelspec": {
   "display_name": ".venv",
   "language": "python",
   "name": "python3"
  },
  "language_info": {
   "codemirror_mode": {
    "name": "ipython",
    "version": 3
   },
   "file_extension": ".py",
   "mimetype": "text/x-python",
   "name": "python",
   "nbconvert_exporter": "python",
   "pygments_lexer": "ipython3",
   "version": "3.10.7"
  }
 },
 "nbformat": 4,
 "nbformat_minor": 2
}
