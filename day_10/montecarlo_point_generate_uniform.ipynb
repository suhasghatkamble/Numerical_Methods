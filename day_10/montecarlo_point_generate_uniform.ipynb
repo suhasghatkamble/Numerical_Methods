{
 "cells": [
  {
   "cell_type": "markdown",
   "metadata": {},
   "source": [
    "python -m pip install scipy"
   ]
  },
  {
   "cell_type": "code",
   "execution_count": 13,
   "metadata": {},
   "outputs": [
    {
     "name": "stdout",
     "output_type": "stream",
     "text": [
      "526.8984043781503\n",
      "integrate answer (526.75, 5.848099782213012e-12)\n"
     ]
    }
   ],
   "source": [
    "import numpy as np\n",
    "import matplotlib.pyplot as plt\n",
    "\n",
    "from scipy import integrate\n",
    "\n",
    "def f(x):\n",
    "    return abs(x**3 + 6*x**2 - x + 17)\n",
    "A=0\n",
    "n=1000000\n",
    "s=np.random.uniform(-2,5,n)\n",
    "for x in s:\n",
    "    h=f(x)\n",
    "    A=A+h*(5-(-2))\n",
    "    \n",
    "A=A/n\n",
    "print(A)\n",
    "sci_area=integrate.quad(f, -2, 5)\n",
    "print(\"integrate answer\",sci_area)\n"
   ]
  },
  {
   "cell_type": "markdown",
   "metadata": {},
   "source": [
    "# Beta Distribution Function\n",
    "\n",
    "probability finding"
   ]
  },
  {
   "cell_type": "code",
   "execution_count": 5,
   "metadata": {},
   "outputs": [
    {
     "name": "stdout",
     "output_type": "stream",
     "text": [
      "Real value to find: 0.8413478010629012\n",
      "Integral value: 0.8467257575248832\n"
     ]
    }
   ],
   "source": [
    "from scipy import stats\n",
    "import numpy as np\n",
    "import matplotlib.pyplot as plt\n",
    "N = 10000\n",
    "a, b = (50, 50)                                     # Beta function alpha, Beta\n",
    "x_min , x_max = (0, .55)                            # min max points for area to compute\n",
    "randx = np.random.uniform(x_min, x_max, N)          # Generate random uniform generates points\n",
    "y = stats.beta.pdf(randx, a, b)                     # Generate beta Dist Fun point\n",
    "beta_at_55 = stats.beta(a, b).cdf(.55)              # beta fun area <= 0.55 (orange)\n",
    "Mcarlo_width = x_max - x_min                        # Monte-Carlo interval length\n",
    "Mcarlo_rect_area = Mcarlo_width * y.sum()           # Monte-Carlo area of all rectangle\n",
    "Mcarlo_rect_area_avg = Mcarlo_rect_area / N         # Monte-Carlo avg area of all rectangle\n",
    "print (f'Real value to find: {beta_at_55}')\n",
    "print (f'Integral value: {Mcarlo_rect_area_avg}')"
   ]
  }
 ],
 "metadata": {
  "kernelspec": {
   "display_name": ".venv",
   "language": "python",
   "name": "python3"
  },
  "language_info": {
   "codemirror_mode": {
    "name": "ipython",
    "version": 3
   },
   "file_extension": ".py",
   "mimetype": "text/x-python",
   "name": "python",
   "nbconvert_exporter": "python",
   "pygments_lexer": "ipython3",
   "version": "3.10.7"
  }
 },
 "nbformat": 4,
 "nbformat_minor": 2
}
