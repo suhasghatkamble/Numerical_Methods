{
 "cells": [
  {
   "cell_type": "code",
   "execution_count": 9,
   "metadata": {},
   "outputs": [
    {
     "ename": "IndexError",
     "evalue": "arrays used as indices must be of integer (or boolean) type",
     "output_type": "error",
     "traceback": [
      "\u001b[0;31m---------------------------------------------------------------------------\u001b[0m",
      "\u001b[0;31mIndexError\u001b[0m                                Traceback (most recent call last)",
      "Cell \u001b[0;32mIn[9], line 11\u001b[0m\n\u001b[1;32m      8\u001b[0m \u001b[38;5;28msum\u001b[39m\u001b[38;5;241m=\u001b[39m\u001b[38;5;241m0\u001b[39m\n\u001b[1;32m     10\u001b[0m \u001b[38;5;28;01mfor\u001b[39;00m i \u001b[38;5;129;01min\u001b[39;00m X1,X2,X3:\n\u001b[0;32m---> 11\u001b[0m     \u001b[38;5;28msum\u001b[39m\u001b[38;5;241m=\u001b[39m\u001b[43mX1\u001b[49m\u001b[43m[\u001b[49m\u001b[43mi\u001b[49m\u001b[43m]\u001b[49m\u001b[38;5;241m+\u001b[39mX2[i]\u001b[38;5;241m+\u001b[39mX3[i]\n\u001b[1;32m     12\u001b[0m     \u001b[38;5;28;01mif\u001b[39;00m \u001b[38;5;28msum\u001b[39m\u001b[38;5;241m>\u001b[39m\u001b[38;5;241m=\u001b[39m\u001b[38;5;241m34\u001b[39m:\n\u001b[1;32m     13\u001b[0m         \u001b[38;5;28mprint\u001b[39m(\u001b[38;5;28msum\u001b[39m)\n",
      "\u001b[0;31mIndexError\u001b[0m: arrays used as indices must be of integer (or boolean) type"
     ]
    }
   ],
   "source": [
    "import numpy as np\n",
    "import matplotlib.pyplot as plt\n",
    "\n",
    "X1= np.random.normal(5,1,500)\n",
    "X2=np.random.normal(10,1,500)\n",
    "X3=np.random.normal(15,1,500)\n",
    "\n",
    "sum=0\n",
    "\n",
    "for i in X1,X2,X3:\n",
    "    sum=X1[i]+X2[i]+X3[i]\n",
    "    if sum>=34:\n",
    "        print(sum)\n"
   ]
  },
  {
   "cell_type": "code",
   "execution_count": 1,
   "metadata": {},
   "outputs": [
    {
     "name": "stdout",
     "output_type": "stream",
     "text": [
      "Probability of exceeding the limit:  1.022 %\n"
     ]
    },
    {
     "data": {
      "image/png": "[encoded data removed]",
      "text/plain": [
       "<Figure size 640x480 with 1 Axes>"
      ]
     },
     "metadata": {},
     "output_type": "display_data"
    }
   ],
   "source": [
    "import numpy as np\n",
    "import matplotlib.pyplot as plt\n",
    "\n",
    "# Configuration\n",
    "s = 100000  # number of samples\n",
    "upper_limit = 34  # upper limit from specification\n",
    "\n",
    "# Components\n",
    "component_1 = np.random.normal(5, 1, s)\n",
    "component_2 = np.random.normal(10, 1, s)\n",
    "component_3 = np.random.normal(15, 1, s)\n",
    "\n",
    "# Relationships\n",
    "total = component_1 + component_2 + component_3\n",
    "\n",
    "# Success conditions\n",
    "probability = np.sum(total > upper_limit) / len(total) * 100\n",
    "\n",
    "print(\"Probability of exceeding the limit: \", round(probability, 3), \"%\")\n",
    "\n",
    "count, bins, ignored = plt.hist(total, 30, density=True, color='skyblue')\n",
    "plt.vlines(34, count.min(), count.max(), color='r', label=\"34 Minute\")\n",
    "plt.legend()\n",
    "plt.show()"
   ]
  }
 ],
 "metadata": {
  "kernelspec": {
   "display_name": ".venv",
   "language": "python",
   "name": "python3"
  },
  "language_info": {
   "codemirror_mode": {
    "name": "ipython",
    "version": 3
   },
   "file_extension": ".py",
   "mimetype": "text/x-python",
   "name": "python",
   "nbconvert_exporter": "python",
   "pygments_lexer": "ipython3",
   "version": "3.10.7"
  }
 },
 "nbformat": 4,
 "nbformat_minor": 2
}
