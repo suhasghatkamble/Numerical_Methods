{
 "cells": [
  {
   "cell_type": "code",
   "execution_count": 1,
   "metadata": {},
   "outputs": [
    {
     "name": "stdout",
     "output_type": "stream",
     "text": [
      "x value for y = 4.5 is: 2.8911072229098442\n"
     ]
    },
    {
     "data": {
      "image/png": "[encoded data removed]",
      "text/plain": [
       "<Figure size 432x288 with 1 Axes>"
      ]
     },
     "metadata": {
      "needs_background": "light"
     },
     "output_type": "display_data"
    }
   ],
   "source": [
    "import numpy as np\n",
    "import matplotlib.pyplot as plt\n",
    "\n",
    "# Given data points\n",
    "x = np.array([1, 2, 3, 4])\n",
    "y = np.array([1.1, 2.1, 5, 7])\n",
    "\n",
    "# Value of y for which we want to find x\n",
    "y_val = 4.5\n",
    "\n",
    "# Calculate Lagrange interpolating polynomial\n",
    "def lagrange_interpolation(x, y, y_val):\n",
    "    n = len(x)\n",
    "    p = 0\n",
    "    for i in range(n):\n",
    "        l = 1\n",
    "        for j in range(n):\n",
    "            if i != j:\n",
    "                l *= (y_val - y[j]) / (y[i] - y[j])\n",
    "        p += x[i] * l\n",
    "    return p\n",
    "\n",
    "# Find x for y = 4.5\n",
    "x_val = lagrange_interpolation(x, y, y_val)\n",
    "\n",
    "# Print the result\n",
    "print(f\"x value for y = {y_val} is: {x_val}\")\n",
    "\n",
    "# Plot the data points and the interpolating polynomial\n",
    "plt.plot(x, y, 'o', label='Data Points')\n",
    "x_interp = np.linspace(x[0], x[-1], 100)\n",
    "y_interp = lagrange_interpolation(x, y, x_interp)\n",
    "plt.plot(x_interp, y_interp, label='Lagrange Interpolation')\n",
    "plt.xlabel('x')\n",
    "plt.ylabel('y')\n",
    "plt.legend()\n",
    "plt.grid(True)\n",
    "plt.show()"
   ]
  }
 ],
 "metadata": {
  "kernelspec": {
   "display_name": "Python 3",
   "language": "python",
   "name": "python3"
  },
  "language_info": {
   "codemirror_mode": {
    "name": "ipython",
    "version": 3
   },
   "file_extension": ".py",
   "mimetype": "text/x-python",
   "name": "python",
   "nbconvert_exporter": "python",
   "pygments_lexer": "ipython3",
   "version": "3.10.7"
  }
 },
 "nbformat": 4,
 "nbformat_minor": 2
}
